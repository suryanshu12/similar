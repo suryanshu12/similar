{
 "cells": [
  {
   "cell_type": "code",
   "execution_count": null,
   "id": "9926d950",
   "metadata": {
    "scrolled": false
   },
   "outputs": [],
   "source": [
    "# Install required library if not installed\n",
    "# pip install sentence-transformers pandas openpyxl numpy\n",
    "\n",
    "import pandas as pd\n",
    "import numpy as np\n",
    "from sentence_transformers import SentenceTransformer\n",
    "import json\n",
    "\n",
    "# -----------------------------\n",
    "# 1. Load patent data from Excel\n",
    "# -----------------------------\n",
    "df = pd.read_excel(r\"C:\\Users\\lenovo\\Downloads\\zip file\\Code (google scraping)\\patent_data_eng.xlsx\")  # Make sure your Excel has columns: Title, Abstract, Claims, Description\n",
    "\n",
    "# -----------------------------\n",
    "# 2. Combine relevant text for embeddings\n",
    "# -----------------------------\n",
    "def combine_text(row):\n",
    "    return f\"{row.get('Title', '')}. {row.get('Abstract', '')}. {row.get('Claims', '')}. {row.get('Description', '')}\"\n",
    "\n",
    "combined_texts = df.apply(combine_text, axis=1).tolist()\n",
    "\n",
    "# -----------------------------\n",
    "# 3. Load SentenceTransformer model\n",
    "# -----------------------------\n",
    "model = SentenceTransformer(\"sentence-transformers/all-mpnet-base-v2\")\n",
    "\n",
    "# -----------------------------\n",
    "# 4. Generate embeddings\n",
    "# -----------------------------\n",
    "embeddings = model.encode(\n",
    "    combined_texts,\n",
    "    batch_size=64,\n",
    "    show_progress_bar=True,\n",
    "    convert_to_numpy=True,\n",
    "    normalize_embeddings=True   # Recommended if using FAISS later\n",
    ")\n",
    "\n",
    "print(\"Embeddings generated! Shape:\", embeddings.shape)\n",
    "\n",
    "# -----------------------------\n",
    "# 5. Save embeddings and combined texts\n",
    "# -----------------------------\n",
    "np.save(\"patent_embeddings_mpnet.npy\", embeddings)\n",
    "\n",
    "with open(\"combined_texts.json\", \"w\", encoding=\"utf-8\") as f:\n",
    "    json.dump(combined_texts, f, ensure_ascii=False)\n"
   ]
  },
  {
   "cell_type": "code",
   "execution_count": 1,
   "id": "dc403f0c",
   "metadata": {},
   "outputs": [
    {
     "name": "stdout",
     "output_type": "stream",
     "text": [
      "^C\n"
     ]
    }
   ],
   "source": [
    "!streamlit run app.py"
   ]
  },
  {
   "cell_type": "code",
   "execution_count": null,
   "id": "bb623f9a",
   "metadata": {},
   "outputs": [],
   "source": []
  }
 ],
 "metadata": {
  "kernelspec": {
   "display_name": "Python 3 (ipykernel)",
   "language": "python",
   "name": "python3"
  },
  "language_info": {
   "codemirror_mode": {
    "name": "ipython",
    "version": 3
   },
   "file_extension": ".py",
   "mimetype": "text/x-python",
   "name": "python",
   "nbconvert_exporter": "python",
   "pygments_lexer": "ipython3",
   "version": "3.10.5"
  }
 },
 "nbformat": 4,
 "nbformat_minor": 5
}
