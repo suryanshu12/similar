{
 "cells": [
  {
   "cell_type": "code",
   "execution_count": null,
   "id": "95d43c2a",
   "metadata": {},
   "outputs": [],
   "source": [
    "import streamlit as st\n",
    "import sqlite3\n",
    "import pandas as pd\n",
    "from sentence_transformers import SentenceTransformer\n",
    "import faiss\n",
    "import numpy as np\n",
    "\n",
    "# Load model once\n",
    "@st.cache_resource\n",
    "def load_model():\n",
    "    return SentenceTransformer(\"all-MiniLM-L6-v2\")\n",
    "\n",
    "model = load_model()\n",
    "\n",
    "# Connect to SQLite\n",
    "conn = sqlite3.connect(\"your_data.db\")  # 🔁 Update path if needed\n",
    "df = pd.read_sql_query(\"SELECT id, title, abstract FROM patents\", conn)\n",
    "df[\"text\"] = df[\"title\"].fillna(\"\") + \". \" + df[\"abstract\"].fillna(\"\")\n",
    "texts = df[\"text\"].tolist()\n",
    "\n",
    "# Create embeddings\n",
    "@st.cache_resource\n",
    "def create_index(texts):\n",
    "    embeddings = model.encode(texts, show_progress_bar=True)\n",
    "    dim = embeddings[0].shape[0]\n",
    "    index = faiss.IndexFlatL2(dim)\n",
    "    index.add(np.array(embeddings))\n",
    "    return index, embeddings\n",
    "\n",
    "index, embeddings = create_index(texts)\n",
    "\n",
    "# Streamlit UI\n",
    "st.title(\"🔎 Patent Semantic Search Engine\")\n",
    "st.write(\"Search patents by meaning using AI-powered semantic search.\")\n",
    "\n",
    "query = st.text_input(\"Enter your search query:\")\n",
    "top_k = st.slider(\"Number of results\", 1, 10, 3)\n",
    "\n",
    "if st.button(\"Search\") and query:\n",
    "    query_vector = model.encode([query])\n",
    "    distances, indices = index.search(np.array(query_vector), top_k)\n",
    "\n",
    "    st.markdown(f\"### 🔍 Top {top_k} Results for: `{query}`\")\n",
    "    for i in indices[0]:\n",
    "        st.markdown(\"----\")\n",
    "        st.subheader(df.iloc[i][\"title\"])\n",
    "        st.write(df.iloc[i][\"abstract\"])\n"
   ]
  }
 ],
 "metadata": {
  "kernelspec": {
   "display_name": "Python 3 (ipykernel)",
   "language": "python",
   "name": "python3"
  },
  "language_info": {
   "codemirror_mode": {
    "name": "ipython",
    "version": 3
   },
   "file_extension": ".py",
   "mimetype": "text/x-python",
   "name": "python",
   "nbconvert_exporter": "python",
   "pygments_lexer": "ipython3",
   "version": "3.10.5"
  }
 },
 "nbformat": 4,
 "nbformat_minor": 5
}
